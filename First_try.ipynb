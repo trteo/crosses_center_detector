{
 "cells": [
  {
   "cell_type": "markdown",
   "id": "86784853",
   "metadata": {},
   "source": [
    "# Попытка 3"
   ]
  },
  {
   "cell_type": "code",
   "execution_count": null,
   "id": "9aff40b3",
   "metadata": {},
   "outputs": [],
   "source": [
    "import cv2 as cv2\n",
    "import numpy as np\n",
    "from matplotlib import pyplot as plt\n",
    "\n",
    "\n",
    "PATH_TO_INPUT_IMAGES = 'images/examples/'\n",
    "\n",
    "# IMAGE_NAME = '25.tif'\n",
    "IMAGE_NAME = '26.tif'\n",
    "\n",
    "IMAGE_PATH = PATH_TO_INPUT_IMAGES + IMAGE_NAME"
   ]
  },
  {
   "cell_type": "code",
   "execution_count": null,
   "id": "cdd898a5",
   "metadata": {},
   "outputs": [],
   "source": [
    "# Open image\n",
    "\n",
    "img = cv2.imread(IMAGE_PATH)[3050:9500, 1000:8000]\n",
    "gray = cv2.cvtColor(img, cv2.COLOR_BGR2GRAY)\n",
    "gray = np.uint8(gray)\n",
    "\n",
    "plt.figure(figsize=(8, 8), dpi=60)\n",
    "plt.imshow(X=gray)\n",
    "plt.show()"
   ]
  },
  {
   "cell_type": "code",
   "execution_count": null,
   "id": "5aa77669",
   "metadata": {},
   "outputs": [],
   "source": [
    "# Blur image\n",
    "\n",
    "kernel_size = 7\n",
    "\n",
    "blur_gray = cv2.GaussianBlur(gray, (kernel_size, kernel_size), 0) \n",
    "\n",
    "# plt.figure(figsize=(32, 32), dpi=60)\n",
    "# plt.imshow(X=blur_gray)\n",
    "# plt.show()\n",
    "# cv2.imwrite('blur_gray.png', blur_gray)"
   ]
  },
  {
   "cell_type": "code",
   "execution_count": null,
   "id": "00c356be",
   "metadata": {},
   "outputs": [],
   "source": [
    "# Detecting edges\n",
    "\n",
    "low_threshold = 140\n",
    "high_threshold = 310\n",
    "\n",
    "lines_edges = cv2.Canny(blur_gray, low_threshold, high_threshold)\n",
    "\n",
    "# plt.figure(figsize=(32, 32), dpi=60)\n",
    "# plt.imshow(X=lines_edges)\n",
    "# plt.show()"
   ]
  },
  {
   "cell_type": "code",
   "execution_count": null,
   "id": "f4890768",
   "metadata": {},
   "outputs": [],
   "source": [
    "# Find corners of lines\n",
    "\n",
    "lines_edges = np.float32(lines_edges)\n",
    "\n",
    "# dst = cv2.cornerHarris(without_noise, 25, 31, 0.12)\n",
    "dst = cv2.cornerHarris(lines_edges, 25, 15, 0.17)\n",
    "dst = cv2.dilate(dst, None)\n",
    "\n",
    "# img = cv2.imread(IMAGE_PATH)[3050:9500, 1000:8000]\n",
    "img = cv2.imread(IMAGE_PATH)[3050:9500, 1000:8000]\n",
    "\n",
    "crosses_points_matrix = dst > 0.12 * dst.max()\n",
    "img[crosses_points_matrix] = [255, 0, 0]\n",
    "\n",
    "plt.figure(figsize=(32, 32), dpi=100)\n",
    "plt.imshow(X=img)\n",
    "plt.show()"
   ]
  },
  {
   "cell_type": "code",
   "execution_count": null,
   "id": "254f2709",
   "metadata": {},
   "outputs": [],
   "source": [
    "colored_dots = crosses_points_matrix.nonzero()\n",
    "print(f'Number of points of corners: {len(colored_dots[0])}')"
   ]
  },
  {
   "cell_type": "code",
   "execution_count": null,
   "id": "13be0325",
   "metadata": {},
   "outputs": [],
   "source": [
    "# Считаем расстояние между яркими точками\n",
    "\n",
    "horisontal_values_matrix = (colored_dots[0] - colored_dots[0][:,np.newaxis]) ** 2  # (x_0 - x_1) ** 2\n",
    "vertical_values_matrix = (colored_dots[1] - colored_dots[1][:,np.newaxis]) ** 2  # (y_0 - y_1) ** 2\n",
    "distance_between_dots = np.sqrt(horisontal_values_matrix + vertical_values_matrix)\n",
    "\n",
    "\n",
    "# Для того, что бы не было повторов, нижний треугольник заполняем большими значениями начиная с диагонали\n",
    "\n",
    "distance_without_bottom_triangle = distance_between_dots + np.tri(*distance_between_dots.shape) * 100"
   ]
  },
  {
   "cell_type": "code",
   "execution_count": null,
   "id": "346247c4",
   "metadata": {},
   "outputs": [],
   "source": [
    "# Получаем пары близких друг к другу вершин\n",
    "\n",
    "MAX_DISTANCE_BETWEEN_PIXELS = 30\n",
    "closest_pixels = np.argwhere(distance_without_bottom_triangle < MAX_DISTANCE_BETWEEN_PIXELS)\n",
    "len(closest_pixels)"
   ]
  },
  {
   "cell_type": "code",
   "execution_count": null,
   "id": "de5b6770",
   "metadata": {},
   "outputs": [],
   "source": [
    "# Собираем кластеры\n",
    "\n",
    "from typing import Set, List, Tuple\n",
    "\n",
    "from pydantic import BaseModel\n",
    "\n",
    "class Cluster(BaseModel):\n",
    "    pixels_in_cluster: Set[int]\n",
    "    close_pixels: List[Tuple[int, int]]\n",
    "\n",
    "clusters: List[Cluster] = []\n",
    "\n",
    "for pixels_pair in closest_pixels:\n",
    "    was_inserted = False\n",
    "    for existing_cluster in clusters:\n",
    "        if pixels_pair[0] in existing_cluster.pixels_in_cluster:\n",
    "            existing_cluster.pixels_in_cluster.update([pixels_pair[1]])\n",
    "            existing_cluster.close_pixels.append(pixels_pair)\n",
    "            was_inserted = True\n",
    "            break\n",
    "    if not was_inserted:\n",
    "#         clusters.append([set((pixels_pair[0], pixels_pair[1])), [pixels_pair]])\n",
    "        clusters.append(Cluster(\n",
    "            pixels_in_cluster=set((pixels_pair[0], pixels_pair[1])),\n",
    "            close_pixels=[tuple(pixels_pair)]\n",
    "        ))\n",
    "\n",
    "print(f'Было найдено: {len(clusters)} кластеров')"
   ]
  },
  {
   "cell_type": "code",
   "execution_count": null,
   "id": "862852ae",
   "metadata": {},
   "outputs": [],
   "source": [
    "# Восстанавливаем координаты точек кластера\n",
    "\n",
    "clusters_coordinates: List[List[np.array]] = []\n",
    "\n",
    "for cluster in clusters:\n",
    "    cluster_coordinates: List[np.array] = []\n",
    "    \n",
    "    for point_in_cluster in cluster.pixels_in_cluster:\n",
    "        cluster_coordinates.append([colored_dots[0][point_in_cluster], colored_dots[1][point_in_cluster]])\n",
    "    \n",
    "    clusters_coordinates.append(cluster_coordinates)"
   ]
  },
  {
   "cell_type": "code",
   "execution_count": null,
   "id": "f7f49ad6",
   "metadata": {
    "scrolled": true
   },
   "outputs": [],
   "source": [
    "# Рисуем кластеры\n",
    "img = cv2.imread(IMAGE_PATH)[3050:9500, 1000:8000]\n",
    "\n",
    "result = img.copy()\n",
    "# result = img.copy() * 0\n",
    "\n",
    "plt.figure(figsize=(32, 32), dpi=60)\n",
    "\n",
    "cmap = plt.cm.get_cmap('hsv', len(clusters))\n",
    "for number, cluster_coordinates in enumerate(clusters_coordinates):\n",
    "    color = cmap(number)\n",
    "    cluser_color = [255 * color[0], 255 * color[1], 255 * color[2]]\n",
    "\n",
    "    for cluster_coordinate in cluster_coordinates:\n",
    "        result[cluster_coordinate[0], cluster_coordinate[1]] = cluser_color\n",
    "\n",
    "plt.imshow(X=result)\n",
    "plt.show()\n",
    "cv2.imwrite('clusters_on_lines_26.png', result)\n",
    "# cv2.imwrite('clusters_black.png', result)"
   ]
  },
  {
   "cell_type": "code",
   "execution_count": null,
   "id": "1696b452",
   "metadata": {
    "scrolled": false
   },
   "outputs": [],
   "source": [
    "# Рисуем центры кластеров и их координаты\n",
    "\n",
    "cross_color = [0, 0, 255]\n",
    "cluster_centers_x_y = []\n",
    "\n",
    "for cluster_coordinates in clusters_coordinates:\n",
    "    cluster_center = np.mean(cluster_coordinates, axis=0)\n",
    "    cluster_center = [round(cluster_center[0]), round(cluster_center[1])]\n",
    "    cluster_centers_x_y.append([cluster_center[1], cluster_center[0]])\n",
    "    result[cluster_center[0], cluster_center[1]] = cross_color\n",
    "    result[cluster_center[0], cluster_center[1]] = cross_color\n",
    "    result[cluster_center[0]+1, cluster_center[1]+1] = cross_color\n",
    "    result[cluster_center[0]-1, cluster_center[1]+1] = cross_color\n",
    "    result[cluster_center[0]+1, cluster_center[1]-1] = cross_color\n",
    "    result[cluster_center[0]-1, cluster_center[1]-1] = cross_color\n",
    "    \n",
    "    cv2.putText(\n",
    "        result, \n",
    "        f'{cluster_center[1]}, {cluster_center[0]}', \n",
    "        (cluster_center[1], cluster_center[0]), \n",
    "        cv2.FONT_HERSHEY_PLAIN, \n",
    "        4,\n",
    "        (0, 255, 0), \n",
    "        3,\n",
    "        cv2.LINE_AA\n",
    "    )\n",
    "\n",
    "plt.figure(figsize=(32, 32), dpi=60)\n",
    "plt.imshow(X=result)\n",
    "plt.show()\n",
    "\n",
    "cv2.imwrite('clusters_with_centers.png', result)"
   ]
  },
  {
   "cell_type": "code",
   "execution_count": null,
   "id": "dc478aa4",
   "metadata": {},
   "outputs": [],
   "source": [
    "# Clusters centers in order of columns\n",
    "# For easier selecting extra centers\n",
    "\n",
    "cluster_centers_sorted_by_x = sorted(\n",
    "    [\n",
    "        cluster_n\n",
    "        for cluster_n in cluster_centers_x_y\n",
    "    ], key=lambda x: x[0])\n",
    "cluster_centers_sorted_by_x"
   ]
  },
  {
   "cell_type": "code",
   "execution_count": null,
   "id": "856f9889",
   "metadata": {
    "scrolled": false
   },
   "outputs": [],
   "source": [
    "# Clusters centers in order of rows\n",
    "\n",
    "cluster_centers_sorted_by_y = sorted(\n",
    "    [\n",
    "        cluster_n\n",
    "        for cluster_n in cluster_centers_x_y\n",
    "    ], key=lambda x: x[1])\n",
    "# cluster_centers_sorted_by_y"
   ]
  },
  {
   "cell_type": "code",
   "execution_count": null,
   "id": "e6ee3654",
   "metadata": {},
   "outputs": [],
   "source": [
    "# Place extra centers in list 'elements_to_remove'\n",
    "\n",
    "# elements_to_remove = [\n",
    "#     [3556, 3729],\n",
    "#     [2188, 4937],\n",
    "#     [6214, 6209],\n",
    "    \n",
    "# ]\n",
    "elements_to_remove = [\n",
    "    [1596, 1312],\n",
    "    [2056, 1313],\n",
    "    [1585, 1786],\n",
    "    [2047, 1782],\n",
    "    [3894, 3812],\n",
    "    [5960, 5386],\n",
    "    [5949, 5857],\n",
    "    [5727, 5623],\n",
    "    [6184, 5625],\n",
    "]\n",
    "\n",
    "for element_to_remove in elements_to_remove:\n",
    "    if element_to_remove in cluster_centers_sorted_by_y:\n",
    "        cluster_centers_sorted_by_y.remove(element_to_remove)\n",
    "\n",
    "print(f'Осталось {len(cluster_centers_sorted_by_y)} кластеров')"
   ]
  },
  {
   "cell_type": "code",
   "execution_count": null,
   "id": "fc3be68f",
   "metadata": {},
   "outputs": [],
   "source": [
    "# Set number of lines in one direction in grid\n",
    "n_elements = 3"
   ]
  },
  {
   "cell_type": "code",
   "execution_count": null,
   "id": "b71cecb3",
   "metadata": {},
   "outputs": [],
   "source": [
    "# Build matrix of cluster centers\n",
    "\n",
    "restored_matrix = [\n",
    "    sorted(cluster_centers_sorted_by_y[i * n_elements:(i + 1) * n_elements], key=lambda x: x[0])\n",
    "    for i in range(n_elements)\n",
    "]\n",
    "restored_matrix"
   ]
  },
  {
   "cell_type": "code",
   "execution_count": null,
   "id": "4e6b1f7c",
   "metadata": {},
   "outputs": [],
   "source": [
    "def get_distance_in_pixels(point_a, point_b):\n",
    "    return [point_b[0] - point_a[0], point_b[1] - point_a[1]]"
   ]
  },
  {
   "cell_type": "code",
   "execution_count": null,
   "id": "59fd09d6",
   "metadata": {
    "scrolled": true
   },
   "outputs": [],
   "source": [
    "# Build matrix of distance in pixels from top left corner\n",
    "\n",
    "zero_point = restored_matrix[0][0]\n",
    "relative_pixel_distances = [\n",
    "    [\n",
    "        get_distance_in_pixels(zero_point, restored_matrix[row][column]) \n",
    "        for column in range(n_elements)\n",
    "    ]\n",
    "    for row in range(n_elements)\n",
    "]\n",
    "\n",
    "for row in relative_pixel_distances:\n",
    "     print(row)"
   ]
  },
  {
   "cell_type": "code",
   "execution_count": null,
   "id": "c3b075ac",
   "metadata": {},
   "outputs": [],
   "source": [
    "# Set dpi value of photo\n",
    "\n",
    "dpi = 1200\n",
    "\n",
    "\n",
    "dist_multiplier = 2.54 / dpi\n",
    "dist_multiplier"
   ]
  },
  {
   "cell_type": "code",
   "execution_count": null,
   "id": "e0b63805",
   "metadata": {},
   "outputs": [],
   "source": [
    "# Build matrix of distance in centimeters from top left corner\n",
    "\n",
    "formating = \"%.3f\"\n",
    "relative_distances = [\n",
    "    [\n",
    "        [formating%(column[0] * dist_multiplier), formating%(column[1] * dist_multiplier)]\n",
    "        for column in row\n",
    "    ]\n",
    "    for row in relative_pixel_distances\n",
    "]\n",
    "\n",
    "for row in relative_distances:\n",
    "     print(row)"
   ]
  },
  {
   "cell_type": "markdown",
   "id": "dd9ea658",
   "metadata": {},
   "source": [
    "# Поиск центров перекрестий №1\n",
    "\n",
    "1. Кластарезуем светлые пиксели по расстоянию друг от друга\n",
    "2. Расчитываем центры конечностей ребер, составляющих кресты\n",
    "3. Определеяем центры крестов, как пересечение двух линий, образованных найденными центрами ребер"
   ]
  },
  {
   "cell_type": "markdown",
   "id": "e987c304",
   "metadata": {},
   "source": [
    "## Шаг 1: поиск кластеров крестов"
   ]
  },
  {
   "cell_type": "code",
   "execution_count": null,
   "id": "5edc7ea2",
   "metadata": {},
   "outputs": [],
   "source": [
    "import cv2\n",
    "import numpy as np\n",
    "from matplotlib import pyplot as plt\n",
    "from random import randint\n",
    "\n",
    "from pydantic import BaseModel"
   ]
  },
  {
   "cell_type": "code",
   "execution_count": null,
   "id": "e469880a",
   "metadata": {},
   "outputs": [],
   "source": [
    "# Дефим константы и всю хуйню\n",
    "\n",
    "def convert_pixels_to_cm(pixels):\n",
    "    return pixels / 2.54\n",
    "\n",
    "PATH_TO_INPUT_IMAGES = 'images/examples'\n",
    "IMAGE_NAME = 'example_crosses.jpg'\n",
    "# IMAGE_NAME = 'example_upscale.jpg'"
   ]
  },
  {
   "cell_type": "code",
   "execution_count": null,
   "id": "b06c9453",
   "metadata": {},
   "outputs": [],
   "source": [
    "# Открываем изображение\n",
    "\n",
    "img = cv2.imread(filename=f'{PATH_TO_INPUT_IMAGES}/{IMAGE_NAME}')\n",
    "gray = cv2.cvtColor(img, cv2.COLOR_BGR2GRAY)\n",
    "\n",
    "plt.figure(figsize=(8, 8), dpi=100)\n",
    "plt.imshow(X=img)\n",
    "plt.title(f'img')\n",
    "plt.show()"
   ]
  },
  {
   "cell_type": "code",
   "execution_count": null,
   "id": "36e7a75f",
   "metadata": {},
   "outputs": [],
   "source": [
    "# Получаем координаты светлых точек\n",
    "\n",
    "MINIMUM_BRIGHTNESS = 150\n",
    "light_pixels = np.argwhere(gray[:,:] > MINIMUM_BRIGHTNESS)\n",
    "len(light_pixels)"
   ]
  },
  {
   "cell_type": "code",
   "execution_count": null,
   "id": "bba181e4",
   "metadata": {},
   "outputs": [],
   "source": [
    "# Я бы дополнительно нарисовал найденные точки тут\n",
    "# light_pixels"
   ]
  },
  {
   "cell_type": "code",
   "execution_count": null,
   "id": "63b1d6da",
   "metadata": {},
   "outputs": [],
   "source": [
    "# Тупо что б не забыть, в каком порядке что идет\n",
    "\n",
    "UPPER_BORDER_PIXEL = min(light_pixels[:,0])\n",
    "LOWER_BORDER_PIXEL = max(light_pixels[:,0])\n",
    "\n",
    "RIGHTES_BORDER_PIXEL = max(light_pixels[:,1])\n",
    "LEFTES_BORDER_PIXEL = min(light_pixels[:,1])\n",
    "\n",
    "LEFTES_BORDER_PIXEL, RIGHTES_BORDER_PIXEL, LOWER_BORDER_PIXEL, UPPER_BORDER_PIXEL"
   ]
  },
  {
   "cell_type": "code",
   "execution_count": null,
   "id": "d16addd3",
   "metadata": {},
   "outputs": [],
   "source": [
    "# Считаем расстояние между яркими точками\n",
    "\n",
    "horisontal_values_matrix = (light_pixels[:,0] - light_pixels[:,0][:,np.newaxis]) ** 2  # (x_0 - x_1) ** 2\n",
    "vertical_values_matrix = (light_pixels[:,1] - light_pixels[:,1][:,np.newaxis]) ** 2  # (y_0 - y_1) ** 2\n",
    "distance_between_dots = np.sqrt(horisontal_values_matrix + vertical_values_matrix)\n",
    "\n",
    "\n",
    "# Для того, что бы не было повторов, нижний треугольник заполняем большими значениями начиная с диагонали\n",
    "\n",
    "distance_without_bottom_triangle = distance_between_dots + np.tri(*distance_between_dots.shape) * 100"
   ]
  },
  {
   "cell_type": "code",
   "execution_count": null,
   "id": "4d882347",
   "metadata": {},
   "outputs": [],
   "source": [
    "# Получаем пары близких друг к другу вершин\n",
    "\n",
    "MAX_DISTANCE_BETWEEN_PIXELS = 16\n",
    "closest_pixels = np.argwhere(distance_without_bottom_triangle < MAX_DISTANCE_BETWEEN_PIXELS)\n",
    "len(closest_pixels)"
   ]
  },
  {
   "cell_type": "code",
   "execution_count": null,
   "id": "6b0a138f",
   "metadata": {},
   "outputs": [],
   "source": [
    "# Собираем кластеры\n",
    "\n",
    "from typing import Set, List, Tuple\n",
    "\n",
    "class Cluster(BaseModel):\n",
    "    pixels_in_cluster: Set[int]\n",
    "    close_pixels: List[Tuple[int, int]]\n",
    "\n",
    "clusters: List[Cluster] = []\n",
    "\n",
    "for pixels_pair in closest_pixels:\n",
    "    was_inserted = False\n",
    "    for existing_cluster in clusters:\n",
    "        if pixels_pair[0] in existing_cluster.pixels_in_cluster:\n",
    "            existing_cluster.pixels_in_cluster.update([pixels_pair[1]])\n",
    "            existing_cluster.close_pixels.append(pixels_pair)\n",
    "            was_inserted = True\n",
    "            break\n",
    "    if not was_inserted:\n",
    "#         clusters.append([set((pixels_pair[0], pixels_pair[1])), [pixels_pair]])\n",
    "        clusters.append(Cluster(\n",
    "            pixels_in_cluster=set((pixels_pair[0], pixels_pair[1])),\n",
    "            close_pixels=[tuple(pixels_pair)]\n",
    "        ))\n",
    "\n",
    "print(f'Было найдено: {len(clusters)} кластеров')"
   ]
  },
  {
   "cell_type": "code",
   "execution_count": null,
   "id": "43b9e1a7",
   "metadata": {},
   "outputs": [],
   "source": [
    "light_pixels"
   ]
  },
  {
   "cell_type": "code",
   "execution_count": null,
   "id": "f4267031",
   "metadata": {},
   "outputs": [],
   "source": [
    "# Восстанавливаем координаты точек кластера\n",
    "\n",
    "clusters_coordinates: List[List[np.array]] = []\n",
    "\n",
    "for cluster in clusters:\n",
    "    cluster_coordinates: List[np.array] = []\n",
    "    for point_in_cluster in cluster.pixels_in_cluster:\n",
    "        cluster_coordinates.append(light_pixels[point_in_cluster])\n",
    "    clusters_coordinates.append(cluster_coordinates)"
   ]
  },
  {
   "cell_type": "code",
   "execution_count": null,
   "id": "426e3b84",
   "metadata": {},
   "outputs": [],
   "source": [
    "# Рисуем кластеры\n",
    "\n",
    "result = img.copy()\n",
    "\n",
    "for cluster_coordinates in clusters_coordinates:\n",
    "#     cluser_color = [randint(100, 255), randint(100, 255), randint(100, 255)]\n",
    "    cluser_color = [255, 0, 0]\n",
    "    for cluster_coordinate in cluster_coordinates:\n",
    "        result[cluster_coordinate[0], cluster_coordinate[1]] = cluser_color\n",
    "\n",
    "plt.figure(figsize=(32, 32), dpi=60)\n",
    "plt.imshow(X=result)\n",
    "plt.title(f'img {len(img)}')\n",
    "plt.show()"
   ]
  },
  {
   "cell_type": "markdown",
   "id": "60cf3a94",
   "metadata": {},
   "source": [
    "## Шаг 2: поиск центров крестов"
   ]
  },
  {
   "cell_type": "code",
   "execution_count": null,
   "id": "a56254fb",
   "metadata": {},
   "outputs": [],
   "source": [
    "# Возьмем для начала крайние точки крестов и будем считать от них\n",
    "        \n",
    "def line(BaseModel):\n",
    "    slope: float\n",
    "    zero_point: float\n",
    "\n",
    "\n",
    "centers_of_crosses = []\n",
    "\n",
    "for cluster_coordinates in clusters_coordinates:\n",
    "    cluster_row = np.array(cluster_coordinates)[:,1]\n",
    "    lower_x_point = cluster_coordinates[np.argmin(cluster_row)]\n",
    "    upper_x_point = cluster_coordinates[np.argmax(cluster_row)]\n",
    "    x_points_delta = upper_x_point - lower_x_point\n",
    "\n",
    "    horisonal_line_slope = x_points_delta[0] / x_points_delta[1]\n",
    "    horisonal_line_shift = lower_x_point[0] - horisonal_line_slope * lower_x_point[1]\n",
    "    \n",
    "#     horisonal_y = horisonal_line_slope * horisonal_x - horisonal_line_shift\n",
    "#     horisonal_y - horisonal_line_slope * horisonal_x + horisonal_line_shift = 0\n",
    "    \n",
    "    \n",
    "    cluster_column = np.array(cluster_coordinates)[:,0]\n",
    "    lower_y_point = cluster_coordinates[np.argmin(cluster_column)]\n",
    "    upper_y_point = cluster_coordinates[np.argmax(cluster_column)]\n",
    "    y_points_delta = upper_y_point - lower_y_point\n",
    "    if y_points_delta[1] == 0:\n",
    "        # Линия полностью вертикальна\n",
    "        # Переделать алгоритм для корректного расчета. Наверно\n",
    "        vertical_line_slope = 99999999\n",
    "    else:\n",
    "        vertical_line_slope = y_points_delta[0] / y_points_delta[1]\n",
    "    vertical_line_shift = lower_y_point[0] - vertical_line_slope * lower_y_point[1]\n",
    "    \n",
    "#     horisonal_y = vertical_line_slope * vertical_y - vertical_line_shift\n",
    "#     horisonal_y - vertical_line_slope * vertical_x + vertical_line_shift = 0\n",
    "    \n",
    "    \n",
    "    x_center = (horisonal_line_shift - vertical_line_shift) / (vertical_line_slope - horisonal_line_slope)\n",
    "    y_center = horisonal_line_slope * x_center + horisonal_line_shift\n",
    "    \n",
    "    centers_of_crosses.append([round(y_center), round(x_center)])\n",
    "\n",
    "#     print(lower_x_point, upper_x_point, horisonal_line_slope, horisonal_line_shift, x_center)\n",
    "#     print(lower_y_point, upper_y_point, vertical_line_slope, vertical_line_shift, y_center)\n",
    "    \n",
    "#     print()\n"
   ]
  },
  {
   "cell_type": "code",
   "execution_count": null,
   "id": "1ec27782",
   "metadata": {},
   "outputs": [],
   "source": [
    "centers_of_crosses"
   ]
  },
  {
   "cell_type": "code",
   "execution_count": null,
   "id": "f0ba13f7",
   "metadata": {},
   "outputs": [],
   "source": [
    "# Рисуем кластеры\n",
    "\n",
    "for center_of_cross in centers_of_crosses:\n",
    "#     cluser_color = [randint(100, 255), randint(100, 255), randint(100, 255)]\n",
    "    cluser_color = [0, 0, 255]\n",
    "    result[center_of_cross[0], center_of_cross[1]] = cluser_color\n",
    "    result[center_of_cross[0]+1, center_of_cross[1]+1] = cluser_color\n",
    "    result[center_of_cross[0]-1, center_of_cross[1]+1] = cluser_color\n",
    "    result[center_of_cross[0]+1, center_of_cross[1]-1] = cluser_color\n",
    "    result[center_of_cross[0]-1, center_of_cross[1]-1] = cluser_color\n",
    "\n",
    "plt.figure(figsize=(32, 32), dpi=60)\n",
    "plt.imshow(X=result)\n",
    "plt.title(f'img {len(img)}')\n",
    "plt.show()"
   ]
  },
  {
   "cell_type": "markdown",
   "id": "76d9ec33",
   "metadata": {},
   "source": [
    "## Шаг 3: упорядочивание крестов"
   ]
  },
  {
   "cell_type": "markdown",
   "id": "8a0fbdbd",
   "metadata": {},
   "source": [
    "## Шаг 4: рассчет расстояния между крестами"
   ]
  },
  {
   "cell_type": "markdown",
   "id": "a4f3e6cd",
   "metadata": {},
   "source": [
    "# Поиск центров перекрестий №2\n",
    "\n",
    "1. Поиск пересечения линий"
   ]
  },
  {
   "cell_type": "code",
   "execution_count": null,
   "id": "a26a3f83",
   "metadata": {},
   "outputs": [],
   "source": [
    "import cv2\n",
    "import numpy as np\n",
    "from matplotlib import pyplot as plt\n",
    "from random import randint\n",
    "\n",
    "import isect_segments_bentley_ottmann.poly_point_isect as bot\n",
    "\n",
    "from pydantic import BaseModel"
   ]
  },
  {
   "cell_type": "code",
   "execution_count": null,
   "id": "75f6a037",
   "metadata": {},
   "outputs": [],
   "source": [
    "PATH_TO_INPUT_IMAGES = 'images/examples'"
   ]
  },
  {
   "cell_type": "code",
   "execution_count": null,
   "id": "9f4e322d",
   "metadata": {
    "pycharm": {
     "name": "#%%\n"
    }
   },
   "outputs": [],
   "source": [
    "# img = cv2.imread(f'{PATH_TO_INPUT_IMAGES}/example.jpg')\n",
    "# img = cv2.imread(f'{PATH_TO_INPUT_IMAGES}/sDQLM.png')\n",
    "# img = cv2.imread(f'{PATH_TO_INPUT_IMAGES}/example_upscale.jpg')\n",
    "# img = cv2.imread(f'{PATH_TO_INPUT_IMAGES}/25.tif')[3050:9500, 1000:8000]\n",
    "img = cv2.imread(f'{PATH_TO_INPUT_IMAGES}/26.tif')[3050:9500, 1000:8000]\n",
    "gray = cv2.cvtColor(img, cv2.COLOR_BGR2GRAY)\n",
    "\n",
    "plt.figure(figsize=(8, 8), dpi=60)\n",
    "plt.imshow(X=img)\n",
    "plt.title(f'img {len(img)}')\n",
    "# plt.show()"
   ]
  },
  {
   "cell_type": "code",
   "execution_count": null,
   "id": "78c17852",
   "metadata": {
    "pycharm": {
     "name": "#%%\n"
    }
   },
   "outputs": [],
   "source": [
    "kernel_size = 9\n",
    "\n",
    "# blur_gray = cv2.blur(gray, (kernel_size, kernel_size), 0) * 5\n",
    "blur_gray = cv2.GaussianBlur(gray, (kernel_size, kernel_size), 0) \n",
    "\n",
    "# plt.figure(figsize=(32, 32), dpi=600)\n",
    "# plt.imshow(X=blur_gray)\n",
    "# plt.show()\n",
    "# cv2.imwrite('blur_gray.png', blur_gray)"
   ]
  },
  {
   "cell_type": "code",
   "execution_count": null,
   "id": "902c97c5",
   "metadata": {
    "pycharm": {
     "name": "#%%\n"
    },
    "scrolled": false
   },
   "outputs": [],
   "source": [
    "low_threshold = 10\n",
    "high_threshold = 60\n",
    "\n",
    "edges = cv2.Canny(blur_gray, low_threshold, high_threshold)\n",
    "\n",
    "# plt.figure(figsize=(8, 8), dpi=60)\n",
    "plt.imshow(X=edges)\n",
    "plt.show()\n",
    "\n",
    "# cv2.imwrite('canny.png', edges)"
   ]
  },
  {
   "cell_type": "code",
   "execution_count": null,
   "id": "e5120457",
   "metadata": {
    "scrolled": false
   },
   "outputs": [],
   "source": [
    "def generate_points(rho, theta, threshold, min_line_length, max_line_gap):\n",
    "    print(f'rho: {rho}, theta: {theta}, threshold: {threshold}, '\n",
    "          f'min_line_length: {min_line_length}, max_line_gap: {max_line_gap}')\n",
    "    theta = np.pi / theta\n",
    "    line_image = np.copy(img) * 0  # creating a blank to draw lines on\n",
    "    # Run Hough on edge detected image\n",
    "    # Output \"lines\" is an array containing endpoints of detected line segments\n",
    "    lines = cv2.HoughLinesP(edges, rho, theta, threshold, np.array([]),\n",
    "                        min_line_length, max_line_gap)\n",
    "    points = []\n",
    "    for line in lines:\n",
    "        for x1, y1, x2, y2 in line:\n",
    "            points.append(((x1, y1), (x2, y2)))\n",
    "            cv2.line(img=line_image, pt1=(x1, y1), pt2=(x2, y2), color=(255, 0, 0), thickness=1)\n",
    "    return points\n",
    "\n",
    "#     plt.figure(figsize=(8, 8), dpi=120)\n",
    "#     plt.imshow(X=line_image)\n",
    "#     plt.show()\n",
    "\n",
    "def generate_lines(img, line_image):\n",
    "    lines_edges = cv2.addWeighted(img, 0.8, line_image, 1, 0)\n",
    "    cv2.imwrite('line_parking.png', lines_edges)\n",
    "\n",
    "#     plt.figure(figsize=(8, 8), dpi=60)\n",
    "#     plt.imshow(X=lines_edges)\n",
    "#     plt.show()\n",
    "    return lines_edges\n",
    "\n",
    "def plot_square(points, lines_edges, dpi =  120):\n",
    "    intersections = bot.isect_segments(points)\n",
    "    for inter in intersections:\n",
    "        a, b = inter\n",
    "        for i in range(3):\n",
    "            for j in range(3):\n",
    "                lines_edges[int(b) + i, int(a) + j] = [0, 255, 0]\n",
    "\n",
    "    cv2.imwrite('result.png', lines_edges)\n",
    "#     plt.figure(figsize=(32, 32), dpi=800)\n",
    "#     plt.imshow(X=lines_edges)\n",
    "#     plt.show()"
   ]
  },
  {
   "cell_type": "code",
   "execution_count": null,
   "id": "6683a595",
   "metadata": {},
   "outputs": [],
   "source": []
  },
  {
   "cell_type": "code",
   "execution_count": null,
   "id": "17474134",
   "metadata": {},
   "outputs": [],
   "source": [
    "### rho, theta, threshold, min_line_length, max_line_gap\n",
    "\n",
    "rho = 1  # distance resolution in pixels of the Hough grid\n",
    "theta = np.pi / 180  # angular resolution in radians of the Hough grid\n",
    "threshold = 15  # minimum number of votes (intersections in Hough grid cell)\n",
    "min_line_length = 50  # minimum number of pixels making up a line\n",
    "max_line_gap = 20  # maximum gap in pixels between connectable line segments\n",
    "line_image = np.copy(img) * 0  # creating a blank to draw lines on\n",
    "\n",
    "# for theta in range(10, 180*2, 10):\n",
    "# for threshold in range(0, 40, 5): \n",
    "# for min_line_length in range(1, 40, 3):        \n",
    "# for max_line_gap in range(1, 40, 3):\n",
    "\n",
    "# points = generate_points(1, 180, 60, 50, 40)\n",
    "# points = points + generate_points(1, 180, 40, 10, 40)\n",
    "# points = points + generate_points(1, 180, 40, 10, 40)\\\n",
    "# points = generate_points(rho=1, theta=180, threshold=40, min_line_length=40, max_line_gap=40)\n",
    "# points = generate_points(1, 90, 60, 10, 10) # + points \n",
    "# points = generate_points(2, 90, 60, 10, 10) # + points \n",
    "# points = points + generate_points(3, 180, 300, 10, 40)\n",
    "\n",
    "\n",
    "# lines = generate_lines(img, line_image)\n",
    "# plot_square(set(points), lines)"
   ]
  },
  {
   "cell_type": "markdown",
   "id": "01eabfc8",
   "metadata": {},
   "source": []
  },
  {
   "cell_type": "code",
   "execution_count": null,
   "id": "c0411ce0",
   "metadata": {},
   "outputs": [],
   "source": [
    "lines"
   ]
  },
  {
   "cell_type": "code",
   "execution_count": null,
   "id": "ed96dfe0",
   "metadata": {
    "scrolled": true
   },
   "outputs": [],
   "source": [
    "print(f'rho: {rho}, theta: {theta}, threshold: {threshold}, '\n",
    "      f'min_line_length: {min_line_length}, max_line_gap: {max_line_gap}')\n",
    "theta = np.pi / theta\n",
    "line_image = np.copy(img) * 0  # creating a blank to draw lines on\n",
    "# Run Hough on edge detected image\n",
    "# Output \"lines\" is an array containing endpoints of detected line segments\n",
    "lines = cv2.HoughLinesP(edges, rho, theta, threshold, np.array([]),\n",
    "                    min_line_length, max_line_gap)\n",
    "points = []\n",
    "for line in lines:\n",
    "    for x1, y1, x2, y2 in line:\n",
    "        points.append(((x1, y1), (x2, y2)))\n",
    "        cv2.line(img=line_image, pt1=(x1, y1), pt2=(x2, y2), color=(255, 0, 0), thickness=1)\n",
    "\n",
    "\n",
    "# plt.figure(figsize=(8, 8), dpi=120)\n",
    "# plt.imshow(X=line_image)\n",
    "# plt.show()\n",
    "\n",
    "\n",
    "lines_edges = cv2.addWeighted(img, 0.8, line_image, 1, 0)\n",
    "#cv2.imwrite('line_parking.png', lines_edges)\n",
    "\n",
    "plt.figure(figsize=(8, 8), dpi=60)\n",
    "plt.imshow(X=lines_edges)\n",
    "plt.show()\n",
    "\n",
    "intersections = bot.isect_segments(points)\n",
    "for inter in intersections:\n",
    "    a, b = inter\n",
    "    for i in range(3):\n",
    "        for j in range(3):\n",
    "            lines_edges[int(b) + i, int(a) + j] = [0, 255, 0]\n",
    "\n",
    "plt.figure(figsize=(8, 8), dpi=45)\n",
    "plt.imshow(X=lines_edges)\n",
    "\n",
    "plt.show()"
   ]
  },
  {
   "cell_type": "code",
   "execution_count": null,
   "id": "8ad83686",
   "metadata": {},
   "outputs": [],
   "source": [
    "(edges, rho, theta, threshold, np.array([]),\n",
    "                    min_line_length, max_line_gap)"
   ]
  }
 ],
 "metadata": {
  "kernelspec": {
   "display_name": "crosses_center_detector",
   "language": "python",
   "name": "crosses_center_detector"
  },
  "language_info": {
   "codemirror_mode": {
    "name": "ipython",
    "version": 3
   },
   "file_extension": ".py",
   "mimetype": "text/x-python",
   "name": "python",
   "nbconvert_exporter": "python",
   "pygments_lexer": "ipython3",
   "version": "3.9.16"
  }
 },
 "nbformat": 4,
 "nbformat_minor": 5
}
